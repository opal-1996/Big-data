{
 "cells": [
  {
   "cell_type": "markdown",
   "id": "fundamental-boston",
   "metadata": {},
   "source": [
    "# GHCN Analysis"
   ]
  },
  {
   "cell_type": "code",
   "execution_count": 16,
   "id": "found-attachment",
   "metadata": {},
   "outputs": [],
   "source": [
    "import os\n",
    "from glob import glob\n",
    "\n",
    "import dask\n",
    "import dask.bag as db\n",
    "import dask.dataframe as dd\n",
    "from distributed import Client\n",
    "from dask_jobqueue import SLURMCluster\n",
    "\n",
    "from IPython.display import display\n",
    "import matplotlib.pyplot as plt\n",
    "\n",
    "from ghcn import load_daily"
   ]
  },
  {
   "cell_type": "code",
   "execution_count": 17,
   "id": "massive-there",
   "metadata": {},
   "outputs": [
    {
     "name": "stderr",
     "output_type": "stream",
     "text": [
      "/ext3/miniconda3/lib/python3.8/site-packages/distributed/node.py:151: UserWarning: Port 8787 is already in use.\n",
      "Perhaps you already have a cluster running?\n",
      "Hosting the HTTP server on port 33393 instead\n",
      "  warnings.warn(\n"
     ]
    },
    {
     "data": {
      "application/vnd.jupyter.widget-view+json": {
       "model_id": "84444a71311a4218a8efc96c1040d541",
       "version_major": 2,
       "version_minor": 0
      },
      "text/plain": [
       "VBox(children=(HTML(value='<h2>SLURMCluster</h2>'), HBox(children=(HTML(value='\\n<div>\\n  <style scoped>\\n    …"
      ]
     },
     "metadata": {},
     "output_type": "display_data"
    },
    {
     "data": {
      "text/html": [
       "<table style=\"border: 2px solid white;\">\n",
       "<tr>\n",
       "<td style=\"vertical-align: top; border: 0px solid white\">\n",
       "<h3 style=\"text-align: left;\">Client</h3>\n",
       "<ul style=\"text-align: left; list-style: none; margin: 0; padding: 0;\">\n",
       "  <li><b>Scheduler: </b>tcp://10.32.35.21:41065</li>\n",
       "  <li><b>Dashboard: </b><a href='http://10.32.35.21:33393/status' target='_blank'>http://10.32.35.21:33393/status</a></li>\n",
       "</ul>\n",
       "</td>\n",
       "<td style=\"vertical-align: top; border: 0px solid white\">\n",
       "<h3 style=\"text-align: left;\">Cluster</h3>\n",
       "<ul style=\"text-align: left; list-style:none; margin: 0; padding: 0;\">\n",
       "  <li><b>Workers: </b>0</li>\n",
       "  <li><b>Cores: </b>0</li>\n",
       "  <li><b>Memory: </b>0 B</li>\n",
       "</ul>\n",
       "</td>\n",
       "</tr>\n",
       "</table>"
      ],
      "text/plain": [
       "<Client: 'tcp://10.32.35.21:41065' processes=0 threads=0, memory=0 B>"
      ]
     },
     "metadata": {},
     "output_type": "display_data"
    }
   ],
   "source": [
    "# Set LOCAL to True for single-machine execution while developing\n",
    "# Set LOCAL to False for cluster execution\n",
    "LOCAL = False\n",
    "\n",
    "if LOCAL:\n",
    "    # This line creates a single-machine dask client\n",
    "    client = Client()\n",
    "else:    \n",
    "    # This line creates a SLURM cluster dask and dask client\n",
    "    # Logging outputs will be stored in /scratch/{your-netid}\n",
    "    \n",
    "    cluster = SLURMCluster(memory='32GB', cores=2, python='/scratch/work/public/dask/bin/python', \n",
    "                               local_directory='/tmp/{}/'.format(os.environ['SLURM_JOB_USER']),\n",
    "                               job_extra=['--output=/scratch/{}/slurm-%j.out'.format(os.environ['SLURM_JOB_USER'])], n_workers=50)\n",
    "\n",
    "    cluster.submit_command = 'slurm'\n",
    "    cluster.scale(100)\n",
    "\n",
    "    display(cluster)\n",
    "    client = Client(cluster)\n",
    "\n",
    "display(client)"
   ]
  },
  {
   "cell_type": "code",
   "execution_count": 18,
   "id": "fatal-municipality",
   "metadata": {},
   "outputs": [
    {
     "data": {
      "text/plain": [
       "<dask.config.set at 0x14a842ae17f0>"
      ]
     },
     "execution_count": 18,
     "metadata": {},
     "output_type": "execute_result"
    }
   ],
   "source": [
    "dask.config.set(scheduler='processes')  "
   ]
  },
  {
   "cell_type": "code",
   "execution_count": 4,
   "id": "alternative-providence",
   "metadata": {},
   "outputs": [
    {
     "data": {
      "text/plain": [
       "[{'station_id': 'ASN00002069',\n",
       "  'year': 1993,\n",
       "  'month': 7,\n",
       "  'element': 'PRCP',\n",
       "  'day': 1,\n",
       "  'value': 0,\n",
       "  'measurement': ' ',\n",
       "  'quality': ' ',\n",
       "  'source': 'a'},\n",
       " {'station_id': 'ASN00002069',\n",
       "  'year': 1993,\n",
       "  'month': 7,\n",
       "  'element': 'PRCP',\n",
       "  'day': 2,\n",
       "  'value': 0,\n",
       "  'measurement': ' ',\n",
       "  'quality': ' ',\n",
       "  'source': 'a'},\n",
       " {'station_id': 'ASN00002069',\n",
       "  'year': 1993,\n",
       "  'month': 7,\n",
       "  'element': 'PRCP',\n",
       "  'day': 3,\n",
       "  'value': 0,\n",
       "  'measurement': ' ',\n",
       "  'quality': ' ',\n",
       "  'source': 'a'}]"
      ]
     },
     "execution_count": 4,
     "metadata": {},
     "output_type": "execute_result"
    }
   ],
   "source": [
    "# Get a list of all input files\n",
    "# We'll sort them alphabetically to ensure reproducibility\n",
    "\n",
    "files = sorted(glob('/scratch/work/courses/DSGA1004-2021/ghcnd_tiny/*.dly'))\n",
    "#files = sorted(glob('/scratch/work/courses/DSGA1004-2021/ghcnd_small/*.dly'))\n",
    "#files = sorted(glob('/scratch/work/courses/DSGA1004-2021/ghcnd_all/*.dly'))\n",
    "\n",
    "# Load in a single file to demonstrate the parser\n",
    "# Just print out the first few records to illustrate the structure\n",
    "load_daily(files[0])[:3]"
   ]
  },
  {
   "cell_type": "markdown",
   "id": "nearby-texas",
   "metadata": {},
   "source": [
    "# Question 1:"
   ]
  },
  {
   "cell_type": "code",
   "execution_count": 5,
   "id": "declared-liquid",
   "metadata": {},
   "outputs": [],
   "source": [
    "#Step1: Merge multiple files into one file\n",
    "file = []\n",
    "for i in range(len(files)):\n",
    "    temp = load_daily(files[i])\n",
    "    for j in range(len(temp)):\n",
    "        file.append(temp[j])"
   ]
  },
  {
   "cell_type": "code",
   "execution_count": 6,
   "id": "coastal-incentive",
   "metadata": {},
   "outputs": [],
   "source": [
    "#Step2: Load data into dask dataframes\n",
    "import pandas as pd\n",
    "from dask.dataframe import from_pandas\n",
    "df = pd.DataFrame(file)\n",
    "ddf = from_pandas(df, npartitions=10)"
   ]
  },
  {
   "cell_type": "code",
   "execution_count": 17,
   "id": "surface-there",
   "metadata": {},
   "outputs": [],
   "source": [
    "ddf = ddf[ddf.value!=-9999]#drop rows that have missing values(value=-9999)\n",
    "ddf = ddf[ddf.quality==\" \"]#drop rows that have bad quality"
   ]
  },
  {
   "cell_type": "code",
   "execution_count": 68,
   "id": "documentary-miniature",
   "metadata": {},
   "outputs": [
    {
     "data": {
      "text/html": [
       "<div>\n",
       "<style scoped>\n",
       "    .dataframe tbody tr th:only-of-type {\n",
       "        vertical-align: middle;\n",
       "    }\n",
       "\n",
       "    .dataframe tbody tr th {\n",
       "        vertical-align: top;\n",
       "    }\n",
       "\n",
       "    .dataframe thead th {\n",
       "        text-align: right;\n",
       "    }\n",
       "</style>\n",
       "<table border=\"1\" class=\"dataframe\">\n",
       "  <thead>\n",
       "    <tr style=\"text-align: right;\">\n",
       "      <th></th>\n",
       "      <th>station_id</th>\n",
       "      <th>year</th>\n",
       "      <th>month</th>\n",
       "      <th>element</th>\n",
       "      <th>day</th>\n",
       "      <th>value</th>\n",
       "      <th>measurement</th>\n",
       "      <th>quality</th>\n",
       "      <th>source</th>\n",
       "    </tr>\n",
       "  </thead>\n",
       "  <tbody>\n",
       "    <tr>\n",
       "      <th>0</th>\n",
       "      <td>AGM00060490</td>\n",
       "      <td>1957</td>\n",
       "      <td>1</td>\n",
       "      <td>TMAX</td>\n",
       "      <td>1</td>\n",
       "      <td>178</td>\n",
       "      <td></td>\n",
       "      <td></td>\n",
       "      <td>S</td>\n",
       "    </tr>\n",
       "    <tr>\n",
       "      <th>1</th>\n",
       "      <td>AGM00060490</td>\n",
       "      <td>1957</td>\n",
       "      <td>1</td>\n",
       "      <td>TMAX</td>\n",
       "      <td>2</td>\n",
       "      <td>150</td>\n",
       "      <td></td>\n",
       "      <td></td>\n",
       "      <td>S</td>\n",
       "    </tr>\n",
       "    <tr>\n",
       "      <th>2</th>\n",
       "      <td>AGM00060490</td>\n",
       "      <td>1957</td>\n",
       "      <td>1</td>\n",
       "      <td>TMAX</td>\n",
       "      <td>3</td>\n",
       "      <td>161</td>\n",
       "      <td></td>\n",
       "      <td></td>\n",
       "      <td>S</td>\n",
       "    </tr>\n",
       "    <tr>\n",
       "      <th>3</th>\n",
       "      <td>AGM00060490</td>\n",
       "      <td>1957</td>\n",
       "      <td>1</td>\n",
       "      <td>TMAX</td>\n",
       "      <td>4</td>\n",
       "      <td>172</td>\n",
       "      <td></td>\n",
       "      <td></td>\n",
       "      <td>S</td>\n",
       "    </tr>\n",
       "    <tr>\n",
       "      <th>4</th>\n",
       "      <td>AGM00060490</td>\n",
       "      <td>1957</td>\n",
       "      <td>1</td>\n",
       "      <td>TMAX</td>\n",
       "      <td>5</td>\n",
       "      <td>172</td>\n",
       "      <td></td>\n",
       "      <td></td>\n",
       "      <td>S</td>\n",
       "    </tr>\n",
       "  </tbody>\n",
       "</table>\n",
       "</div>"
      ],
      "text/plain": [
       "    station_id  year  month element  day  value measurement quality source\n",
       "0  AGM00060490  1957      1    TMAX    1    178                          S\n",
       "1  AGM00060490  1957      1    TMAX    2    150                          S\n",
       "2  AGM00060490  1957      1    TMAX    3    161                          S\n",
       "3  AGM00060490  1957      1    TMAX    4    172                          S\n",
       "4  AGM00060490  1957      1    TMAX    5    172                          S"
      ]
     },
     "execution_count": 68,
     "metadata": {},
     "output_type": "execute_result"
    }
   ],
   "source": [
    "ddf.head()"
   ]
  },
  {
   "cell_type": "markdown",
   "id": "stone-purchase",
   "metadata": {},
   "source": [
    "## Question 1-1: Annual PRCP"
   ]
  },
  {
   "cell_type": "code",
   "execution_count": 19,
   "id": "fabulous-pleasure",
   "metadata": {},
   "outputs": [
    {
     "data": {
      "text/html": [
       "<div>\n",
       "<style scoped>\n",
       "    .dataframe tbody tr th:only-of-type {\n",
       "        vertical-align: middle;\n",
       "    }\n",
       "\n",
       "    .dataframe tbody tr th {\n",
       "        vertical-align: top;\n",
       "    }\n",
       "\n",
       "    .dataframe thead th {\n",
       "        text-align: right;\n",
       "    }\n",
       "</style>\n",
       "<table border=\"1\" class=\"dataframe\">\n",
       "  <thead>\n",
       "    <tr style=\"text-align: right;\">\n",
       "      <th></th>\n",
       "      <th>value</th>\n",
       "    </tr>\n",
       "    <tr>\n",
       "      <th>year</th>\n",
       "      <th></th>\n",
       "    </tr>\n",
       "  </thead>\n",
       "  <tbody>\n",
       "    <tr>\n",
       "      <th>1878</th>\n",
       "      <td>19.300000</td>\n",
       "    </tr>\n",
       "    <tr>\n",
       "      <th>1879</th>\n",
       "      <td>26.869444</td>\n",
       "    </tr>\n",
       "    <tr>\n",
       "      <th>1880</th>\n",
       "      <td>15.232240</td>\n",
       "    </tr>\n",
       "    <tr>\n",
       "      <th>1881</th>\n",
       "      <td>14.287671</td>\n",
       "    </tr>\n",
       "    <tr>\n",
       "      <th>1882</th>\n",
       "      <td>13.175342</td>\n",
       "    </tr>\n",
       "    <tr>\n",
       "      <th>...</th>\n",
       "      <td>...</td>\n",
       "    </tr>\n",
       "    <tr>\n",
       "      <th>2017</th>\n",
       "      <td>31.321393</td>\n",
       "    </tr>\n",
       "    <tr>\n",
       "      <th>2018</th>\n",
       "      <td>32.504508</td>\n",
       "    </tr>\n",
       "    <tr>\n",
       "      <th>2019</th>\n",
       "      <td>29.077741</td>\n",
       "    </tr>\n",
       "    <tr>\n",
       "      <th>2020</th>\n",
       "      <td>27.475120</td>\n",
       "    </tr>\n",
       "    <tr>\n",
       "      <th>2021</th>\n",
       "      <td>30.020057</td>\n",
       "    </tr>\n",
       "  </tbody>\n",
       "</table>\n",
       "<p>142 rows × 1 columns</p>\n",
       "</div>"
      ],
      "text/plain": [
       "          value\n",
       "year           \n",
       "1878  19.300000\n",
       "1879  26.869444\n",
       "1880  15.232240\n",
       "1881  14.287671\n",
       "1882  13.175342\n",
       "...         ...\n",
       "2017  31.321393\n",
       "2018  32.504508\n",
       "2019  29.077741\n",
       "2020  27.475120\n",
       "2021  30.020057\n",
       "\n",
       "[142 rows x 1 columns]"
      ]
     },
     "execution_count": 19,
     "metadata": {},
     "output_type": "execute_result"
    }
   ],
   "source": [
    "#Compute the annual mean PRCP across different stations\n",
    "precipitation = ddf[ddf.element==\"PRCP\"].groupby(by=[\"year\"]).agg({\"value\":\"mean\"}).compute()\n",
    "precipitation"
   ]
  },
  {
   "cell_type": "code",
   "execution_count": 20,
   "id": "failing-cutting",
   "metadata": {},
   "outputs": [],
   "source": [
    "#Save to csv file\n",
    "precipitation.to_csv(\"prcp-tiny.csv\")"
   ]
  },
  {
   "cell_type": "code",
   "execution_count": 21,
   "id": "accepting-outdoors",
   "metadata": {},
   "outputs": [
    {
     "data": {
      "image/png": "[encoded data removed]",
      "text/plain": [
       "<Figure size 432x288 with 1 Axes>"
      ]
     },
     "metadata": {
      "needs_background": "light"
     },
     "output_type": "display_data"
    }
   ],
   "source": [
    "#Visualize the result\n",
    "data = precipitation.reset_index()\n",
    "fig = plt.figure()\n",
    "ax = plt.subplot(111)\n",
    "\n",
    "ax.plot(data.year, data.value)\n",
    "plt.xlabel(\"Year\")\n",
    "plt.ylabel(\"Annual PRCP\")\n",
    "plt.show()"
   ]
  },
  {
   "cell_type": "markdown",
   "id": "harmful-emphasis",
   "metadata": {},
   "source": [
    "## Question 1-2: Annual TMAX"
   ]
  },
  {
   "cell_type": "code",
   "execution_count": 22,
   "id": "refined-instrumentation",
   "metadata": {},
   "outputs": [],
   "source": [
    "#Compute the annual TMAX across different stations\n",
    "temperature = ddf[ddf.element==\"TMAX\"].groupby(by=[\"year\"]).agg({\"value\":\"max\"}).compute()\n",
    "temperature = temperature.sort_values(\"year\")"
   ]
  },
  {
   "cell_type": "code",
   "execution_count": 23,
   "id": "tropical-monster",
   "metadata": {},
   "outputs": [
    {
     "data": {
      "text/html": [
       "<div>\n",
       "<style scoped>\n",
       "    .dataframe tbody tr th:only-of-type {\n",
       "        vertical-align: middle;\n",
       "    }\n",
       "\n",
       "    .dataframe tbody tr th {\n",
       "        vertical-align: top;\n",
       "    }\n",
       "\n",
       "    .dataframe thead th {\n",
       "        text-align: right;\n",
       "    }\n",
       "</style>\n",
       "<table border=\"1\" class=\"dataframe\">\n",
       "  <thead>\n",
       "    <tr style=\"text-align: right;\">\n",
       "      <th></th>\n",
       "      <th>value</th>\n",
       "    </tr>\n",
       "    <tr>\n",
       "      <th>year</th>\n",
       "      <th></th>\n",
       "    </tr>\n",
       "  </thead>\n",
       "  <tbody>\n",
       "    <tr>\n",
       "      <th>1907</th>\n",
       "      <td>178</td>\n",
       "    </tr>\n",
       "    <tr>\n",
       "      <th>1908</th>\n",
       "      <td>328</td>\n",
       "    </tr>\n",
       "    <tr>\n",
       "      <th>1909</th>\n",
       "      <td>339</td>\n",
       "    </tr>\n",
       "    <tr>\n",
       "      <th>1910</th>\n",
       "      <td>350</td>\n",
       "    </tr>\n",
       "    <tr>\n",
       "      <th>1911</th>\n",
       "      <td>344</td>\n",
       "    </tr>\n",
       "    <tr>\n",
       "      <th>...</th>\n",
       "      <td>...</td>\n",
       "    </tr>\n",
       "    <tr>\n",
       "      <th>2017</th>\n",
       "      <td>428</td>\n",
       "    </tr>\n",
       "    <tr>\n",
       "      <th>2018</th>\n",
       "      <td>422</td>\n",
       "    </tr>\n",
       "    <tr>\n",
       "      <th>2019</th>\n",
       "      <td>400</td>\n",
       "    </tr>\n",
       "    <tr>\n",
       "      <th>2020</th>\n",
       "      <td>422</td>\n",
       "    </tr>\n",
       "    <tr>\n",
       "      <th>2021</th>\n",
       "      <td>333</td>\n",
       "    </tr>\n",
       "  </tbody>\n",
       "</table>\n",
       "<p>109 rows × 1 columns</p>\n",
       "</div>"
      ],
      "text/plain": [
       "      value\n",
       "year       \n",
       "1907    178\n",
       "1908    328\n",
       "1909    339\n",
       "1910    350\n",
       "1911    344\n",
       "...     ...\n",
       "2017    428\n",
       "2018    422\n",
       "2019    400\n",
       "2020    422\n",
       "2021    333\n",
       "\n",
       "[109 rows x 1 columns]"
      ]
     },
     "execution_count": 23,
     "metadata": {},
     "output_type": "execute_result"
    }
   ],
   "source": [
    "temperature "
   ]
  },
  {
   "cell_type": "code",
   "execution_count": 24,
   "id": "other-reliance",
   "metadata": {},
   "outputs": [],
   "source": [
    "#Save to csv file\n",
    "temperature.to_csv(\"tmax-tiny.csv\")"
   ]
  },
  {
   "cell_type": "code",
   "execution_count": 25,
   "id": "previous-steps",
   "metadata": {},
   "outputs": [
    {
     "data": {
      "image/png": "[encoded data removed]",
      "text/plain": [
       "<Figure size 432x288 with 1 Axes>"
      ]
     },
     "metadata": {
      "needs_background": "light"
     },
     "output_type": "display_data"
    }
   ],
   "source": [
    "#Visualize the result\n",
    "data2 = temperature.reset_index()\n",
    "fig = plt.figure()\n",
    "ax = plt.subplot(111)\n",
    "ax.plot(data2.year, data2.value)\n",
    "\n",
    "plt.xlabel(\"Year\")\n",
    "plt.ylabel(\"Annual TMAX\")\n",
    "plt.show()"
   ]
  },
  {
   "cell_type": "markdown",
   "id": "stunning-printing",
   "metadata": {},
   "source": [
    "# Question 2:"
   ]
  },
  {
   "cell_type": "markdown",
   "id": "painted-killer",
   "metadata": {},
   "source": [
    "## Question 2-1: prcp-small"
   ]
  },
  {
   "cell_type": "code",
   "execution_count": 26,
   "id": "numeric-venue",
   "metadata": {},
   "outputs": [],
   "source": [
    "files_small = sorted(glob('/scratch/work/courses/DSGA1004-2021/ghcnd_small/*.dly'))"
   ]
  },
  {
   "cell_type": "code",
   "execution_count": 27,
   "id": "bored-stewart",
   "metadata": {},
   "outputs": [
    {
     "data": {
      "text/plain": [
       "1000"
      ]
     },
     "execution_count": 27,
     "metadata": {},
     "output_type": "execute_result"
    }
   ],
   "source": [
    "len(files_small)"
   ]
  },
  {
   "cell_type": "code",
   "execution_count": 28,
   "id": "ranging-pastor",
   "metadata": {},
   "outputs": [],
   "source": [
    "#convert .dly files to dask dataframes\n",
    "import pandas as pd\n",
    "from dask.dataframe import from_pandas\n",
    "\n",
    "pd_dataframes_ = []\n",
    "for i in range(len(files_small)):\n",
    "    pd_dataframes_.append(pd.DataFrame(load_daily(files_small[i])))"
   ]
  },
  {
   "cell_type": "code",
   "execution_count": 29,
   "id": "split-azerbaijan",
   "metadata": {},
   "outputs": [],
   "source": [
    "ddfs = []#list of dask dataframes\n",
    "for i in range(len(pd_dataframes_)):\n",
    "    ddfs.append(from_pandas(pd_dataframes_[i],npartitions=1))"
   ]
  },
  {
   "cell_type": "code",
   "execution_count": 30,
   "id": "bound-export",
   "metadata": {},
   "outputs": [],
   "source": [
    "#concatenate multiple dask dataframes\n",
    "ddf = dask.dataframe.multi.concat(ddfs)"
   ]
  },
  {
   "cell_type": "code",
   "execution_count": 31,
   "id": "animal-picnic",
   "metadata": {},
   "outputs": [],
   "source": [
    "ddf = ddf[ddf.value!=-9999]#drop rows that have missing values(value=-9999)\n",
    "ddf = ddf[ddf.quality==\" \"]#drop rows that have bad quality"
   ]
  },
  {
   "cell_type": "code",
   "execution_count": 32,
   "id": "medieval-sight",
   "metadata": {},
   "outputs": [
    {
     "data": {
      "text/html": [
       "<div>\n",
       "<style scoped>\n",
       "    .dataframe tbody tr th:only-of-type {\n",
       "        vertical-align: middle;\n",
       "    }\n",
       "\n",
       "    .dataframe tbody tr th {\n",
       "        vertical-align: top;\n",
       "    }\n",
       "\n",
       "    .dataframe thead th {\n",
       "        text-align: right;\n",
       "    }\n",
       "</style>\n",
       "<table border=\"1\" class=\"dataframe\">\n",
       "  <thead>\n",
       "    <tr style=\"text-align: right;\">\n",
       "      <th></th>\n",
       "      <th>station_id</th>\n",
       "      <th>year</th>\n",
       "      <th>month</th>\n",
       "      <th>element</th>\n",
       "      <th>day</th>\n",
       "      <th>value</th>\n",
       "      <th>measurement</th>\n",
       "      <th>quality</th>\n",
       "      <th>source</th>\n",
       "    </tr>\n",
       "  </thead>\n",
       "  <tbody>\n",
       "    <tr>\n",
       "      <th>0</th>\n",
       "      <td>AGM00060490</td>\n",
       "      <td>1957</td>\n",
       "      <td>1</td>\n",
       "      <td>TMAX</td>\n",
       "      <td>1</td>\n",
       "      <td>178</td>\n",
       "      <td></td>\n",
       "      <td></td>\n",
       "      <td>S</td>\n",
       "    </tr>\n",
       "    <tr>\n",
       "      <th>1</th>\n",
       "      <td>AGM00060490</td>\n",
       "      <td>1957</td>\n",
       "      <td>1</td>\n",
       "      <td>TMAX</td>\n",
       "      <td>2</td>\n",
       "      <td>150</td>\n",
       "      <td></td>\n",
       "      <td></td>\n",
       "      <td>S</td>\n",
       "    </tr>\n",
       "    <tr>\n",
       "      <th>2</th>\n",
       "      <td>AGM00060490</td>\n",
       "      <td>1957</td>\n",
       "      <td>1</td>\n",
       "      <td>TMAX</td>\n",
       "      <td>3</td>\n",
       "      <td>161</td>\n",
       "      <td></td>\n",
       "      <td></td>\n",
       "      <td>S</td>\n",
       "    </tr>\n",
       "    <tr>\n",
       "      <th>3</th>\n",
       "      <td>AGM00060490</td>\n",
       "      <td>1957</td>\n",
       "      <td>1</td>\n",
       "      <td>TMAX</td>\n",
       "      <td>4</td>\n",
       "      <td>172</td>\n",
       "      <td></td>\n",
       "      <td></td>\n",
       "      <td>S</td>\n",
       "    </tr>\n",
       "    <tr>\n",
       "      <th>4</th>\n",
       "      <td>AGM00060490</td>\n",
       "      <td>1957</td>\n",
       "      <td>1</td>\n",
       "      <td>TMAX</td>\n",
       "      <td>5</td>\n",
       "      <td>172</td>\n",
       "      <td></td>\n",
       "      <td></td>\n",
       "      <td>S</td>\n",
       "    </tr>\n",
       "  </tbody>\n",
       "</table>\n",
       "</div>"
      ],
      "text/plain": [
       "    station_id  year  month element  day  value measurement quality source\n",
       "0  AGM00060490  1957      1    TMAX    1    178                          S\n",
       "1  AGM00060490  1957      1    TMAX    2    150                          S\n",
       "2  AGM00060490  1957      1    TMAX    3    161                          S\n",
       "3  AGM00060490  1957      1    TMAX    4    172                          S\n",
       "4  AGM00060490  1957      1    TMAX    5    172                          S"
      ]
     },
     "execution_count": 32,
     "metadata": {},
     "output_type": "execute_result"
    }
   ],
   "source": [
    "ddf.head()"
   ]
  },
  {
   "cell_type": "code",
   "execution_count": 33,
   "id": "wrapped-titanium",
   "metadata": {},
   "outputs": [
    {
     "data": {
      "text/html": [
       "<div>\n",
       "<style scoped>\n",
       "    .dataframe tbody tr th:only-of-type {\n",
       "        vertical-align: middle;\n",
       "    }\n",
       "\n",
       "    .dataframe tbody tr th {\n",
       "        vertical-align: top;\n",
       "    }\n",
       "\n",
       "    .dataframe thead th {\n",
       "        text-align: right;\n",
       "    }\n",
       "</style>\n",
       "<table border=\"1\" class=\"dataframe\">\n",
       "  <thead>\n",
       "    <tr style=\"text-align: right;\">\n",
       "      <th></th>\n",
       "      <th>value</th>\n",
       "    </tr>\n",
       "    <tr>\n",
       "      <th>year</th>\n",
       "      <th></th>\n",
       "    </tr>\n",
       "  </thead>\n",
       "  <tbody>\n",
       "    <tr>\n",
       "      <th>1850</th>\n",
       "      <td>11.000000</td>\n",
       "    </tr>\n",
       "    <tr>\n",
       "      <th>1851</th>\n",
       "      <td>22.676712</td>\n",
       "    </tr>\n",
       "    <tr>\n",
       "      <th>1852</th>\n",
       "      <td>25.000000</td>\n",
       "    </tr>\n",
       "    <tr>\n",
       "      <th>1853</th>\n",
       "      <td>19.131507</td>\n",
       "    </tr>\n",
       "    <tr>\n",
       "      <th>1854</th>\n",
       "      <td>17.610959</td>\n",
       "    </tr>\n",
       "    <tr>\n",
       "      <th>...</th>\n",
       "      <td>...</td>\n",
       "    </tr>\n",
       "    <tr>\n",
       "      <th>2017</th>\n",
       "      <td>27.436538</td>\n",
       "    </tr>\n",
       "    <tr>\n",
       "      <th>2018</th>\n",
       "      <td>29.298194</td>\n",
       "    </tr>\n",
       "    <tr>\n",
       "      <th>2019</th>\n",
       "      <td>28.190322</td>\n",
       "    </tr>\n",
       "    <tr>\n",
       "      <th>2020</th>\n",
       "      <td>27.400321</td>\n",
       "    </tr>\n",
       "    <tr>\n",
       "      <th>2021</th>\n",
       "      <td>25.840246</td>\n",
       "    </tr>\n",
       "  </tbody>\n",
       "</table>\n",
       "<p>172 rows × 1 columns</p>\n",
       "</div>"
      ],
      "text/plain": [
       "          value\n",
       "year           \n",
       "1850  11.000000\n",
       "1851  22.676712\n",
       "1852  25.000000\n",
       "1853  19.131507\n",
       "1854  17.610959\n",
       "...         ...\n",
       "2017  27.436538\n",
       "2018  29.298194\n",
       "2019  28.190322\n",
       "2020  27.400321\n",
       "2021  25.840246\n",
       "\n",
       "[172 rows x 1 columns]"
      ]
     },
     "execution_count": 33,
     "metadata": {},
     "output_type": "execute_result"
    }
   ],
   "source": [
    "#Compute the annual mean PRCP across different stations\n",
    "precipitation_small = ddf[ddf.element==\"PRCP\"].groupby(by=[\"year\"]).agg({\"value\":\"mean\"}).compute()\n",
    "precipitation_small"
   ]
  },
  {
   "cell_type": "code",
   "execution_count": 34,
   "id": "desirable-tissue",
   "metadata": {},
   "outputs": [],
   "source": [
    "#save to csv file\n",
    "precipitation_small.to_csv(\"prcp-small.csv\")"
   ]
  },
  {
   "cell_type": "markdown",
   "id": "swedish-collect",
   "metadata": {},
   "source": [
    "## Question 2-2: tmax-small"
   ]
  },
  {
   "cell_type": "code",
   "execution_count": 35,
   "id": "involved-seventh",
   "metadata": {},
   "outputs": [
    {
     "data": {
      "text/html": [
       "<div>\n",
       "<style scoped>\n",
       "    .dataframe tbody tr th:only-of-type {\n",
       "        vertical-align: middle;\n",
       "    }\n",
       "\n",
       "    .dataframe tbody tr th {\n",
       "        vertical-align: top;\n",
       "    }\n",
       "\n",
       "    .dataframe thead th {\n",
       "        text-align: right;\n",
       "    }\n",
       "</style>\n",
       "<table border=\"1\" class=\"dataframe\">\n",
       "  <thead>\n",
       "    <tr style=\"text-align: right;\">\n",
       "      <th></th>\n",
       "      <th>value</th>\n",
       "    </tr>\n",
       "    <tr>\n",
       "      <th>year</th>\n",
       "      <th></th>\n",
       "    </tr>\n",
       "  </thead>\n",
       "  <tbody>\n",
       "    <tr>\n",
       "      <th>1877</th>\n",
       "      <td>311</td>\n",
       "    </tr>\n",
       "    <tr>\n",
       "      <th>1878</th>\n",
       "      <td>350</td>\n",
       "    </tr>\n",
       "    <tr>\n",
       "      <th>1879</th>\n",
       "      <td>344</td>\n",
       "    </tr>\n",
       "    <tr>\n",
       "      <th>1880</th>\n",
       "      <td>333</td>\n",
       "    </tr>\n",
       "    <tr>\n",
       "      <th>1881</th>\n",
       "      <td>361</td>\n",
       "    </tr>\n",
       "    <tr>\n",
       "      <th>...</th>\n",
       "      <td>...</td>\n",
       "    </tr>\n",
       "    <tr>\n",
       "      <th>2017</th>\n",
       "      <td>483</td>\n",
       "    </tr>\n",
       "    <tr>\n",
       "      <th>2018</th>\n",
       "      <td>474</td>\n",
       "    </tr>\n",
       "    <tr>\n",
       "      <th>2019</th>\n",
       "      <td>485</td>\n",
       "    </tr>\n",
       "    <tr>\n",
       "      <th>2020</th>\n",
       "      <td>466</td>\n",
       "    </tr>\n",
       "    <tr>\n",
       "      <th>2021</th>\n",
       "      <td>437</td>\n",
       "    </tr>\n",
       "  </tbody>\n",
       "</table>\n",
       "<p>145 rows × 1 columns</p>\n",
       "</div>"
      ],
      "text/plain": [
       "      value\n",
       "year       \n",
       "1877    311\n",
       "1878    350\n",
       "1879    344\n",
       "1880    333\n",
       "1881    361\n",
       "...     ...\n",
       "2017    483\n",
       "2018    474\n",
       "2019    485\n",
       "2020    466\n",
       "2021    437\n",
       "\n",
       "[145 rows x 1 columns]"
      ]
     },
     "execution_count": 35,
     "metadata": {},
     "output_type": "execute_result"
    }
   ],
   "source": [
    "#Compute the annual TMAX across different stations\n",
    "temperature_small = ddf[ddf.element==\"TMAX\"].groupby(by=[\"year\"]).agg({\"value\":\"max\"}).compute()\n",
    "temperature_small"
   ]
  },
  {
   "cell_type": "code",
   "execution_count": 36,
   "id": "passive-fraction",
   "metadata": {},
   "outputs": [],
   "source": [
    "#save to csv file\n",
    "temperature_small.to_csv(\"tmax-small.csv\")"
   ]
  },
  {
   "cell_type": "markdown",
   "id": "positive-northeast",
   "metadata": {},
   "source": [
    "## Question 2-3: prcp-all"
   ]
  },
  {
   "cell_type": "code",
   "execution_count": 4,
   "id": "equivalent-budapest",
   "metadata": {},
   "outputs": [],
   "source": [
    "import pandas as pd\n",
    "from dask.dataframe import from_pandas\n",
    "import dask.dataframe as dd\n",
    "from dask import compute\n",
    "from dask import delayed\n",
    "import dask.bag as db"
   ]
  },
  {
   "cell_type": "code",
   "execution_count": 5,
   "id": "isolated-moore",
   "metadata": {},
   "outputs": [
    {
     "data": {
      "text/plain": [
       "[{'station_id': 'ACW00011604',\n",
       "  'year': 1949,\n",
       "  'month': 1,\n",
       "  'element': 'TMAX',\n",
       "  'day': 1,\n",
       "  'value': 289,\n",
       "  'measurement': ' ',\n",
       "  'quality': ' ',\n",
       "  'source': 'X'},\n",
       " {'station_id': 'ACW00011604',\n",
       "  'year': 1949,\n",
       "  'month': 1,\n",
       "  'element': 'TMAX',\n",
       "  'day': 2,\n",
       "  'value': 289,\n",
       "  'measurement': ' ',\n",
       "  'quality': ' ',\n",
       "  'source': 'X'},\n",
       " {'station_id': 'ACW00011604',\n",
       "  'year': 1949,\n",
       "  'month': 1,\n",
       "  'element': 'TMAX',\n",
       "  'day': 3,\n",
       "  'value': 283,\n",
       "  'measurement': ' ',\n",
       "  'quality': ' ',\n",
       "  'source': 'X'}]"
      ]
     },
     "execution_count": 5,
     "metadata": {},
     "output_type": "execute_result"
    }
   ],
   "source": [
    "files = sorted(glob('/scratch/work/courses/DSGA1004-2021/ghcnd_all/*.dly'))\n",
    "load_daily(files[0])[:3]"
   ]
  },
  {
   "cell_type": "code",
   "execution_count": 6,
   "id": "opposite-repeat",
   "metadata": {},
   "outputs": [],
   "source": [
    "b = db.from_sequence(files, npartitions = 10000).map(load_daily).flatten()"
   ]
  },
  {
   "cell_type": "code",
   "execution_count": 7,
   "id": "female-rebate",
   "metadata": {},
   "outputs": [],
   "source": [
    "dk_prcp = b.filter(lambda x: x['element'] == 'PRCP' and x['quality'] == ' ' and x['value'] != -9999).to_dataframe()"
   ]
  },
  {
   "cell_type": "code",
   "execution_count": 8,
   "id": "surprising-boundary",
   "metadata": {},
   "outputs": [],
   "source": [
    "#compute the mean prcp\n",
    "mean_prcp = dk_prcp.groupby(by=[\"year\"]).agg({\"value\":\"mean\"}).compute().sort_values(\"year\")"
   ]
  },
  {
   "cell_type": "code",
   "execution_count": 9,
   "id": "secure-singer",
   "metadata": {},
   "outputs": [
    {
     "data": {
      "text/html": [
       "<div>\n",
       "<style scoped>\n",
       "    .dataframe tbody tr th:only-of-type {\n",
       "        vertical-align: middle;\n",
       "    }\n",
       "\n",
       "    .dataframe tbody tr th {\n",
       "        vertical-align: top;\n",
       "    }\n",
       "\n",
       "    .dataframe thead th {\n",
       "        text-align: right;\n",
       "    }\n",
       "</style>\n",
       "<table border=\"1\" class=\"dataframe\">\n",
       "  <thead>\n",
       "    <tr style=\"text-align: right;\">\n",
       "      <th></th>\n",
       "      <th>value</th>\n",
       "    </tr>\n",
       "    <tr>\n",
       "      <th>year</th>\n",
       "      <th></th>\n",
       "    </tr>\n",
       "  </thead>\n",
       "  <tbody>\n",
       "    <tr>\n",
       "      <th>1781</th>\n",
       "      <td>24.558904</td>\n",
       "    </tr>\n",
       "    <tr>\n",
       "      <th>1782</th>\n",
       "      <td>13.712329</td>\n",
       "    </tr>\n",
       "    <tr>\n",
       "      <th>1783</th>\n",
       "      <td>17.832877</td>\n",
       "    </tr>\n",
       "    <tr>\n",
       "      <th>1784</th>\n",
       "      <td>16.576503</td>\n",
       "    </tr>\n",
       "    <tr>\n",
       "      <th>1785</th>\n",
       "      <td>16.169863</td>\n",
       "    </tr>\n",
       "    <tr>\n",
       "      <th>...</th>\n",
       "      <td>...</td>\n",
       "    </tr>\n",
       "    <tr>\n",
       "      <th>2017</th>\n",
       "      <td>28.086188</td>\n",
       "    </tr>\n",
       "    <tr>\n",
       "      <th>2018</th>\n",
       "      <td>28.818076</td>\n",
       "    </tr>\n",
       "    <tr>\n",
       "      <th>2019</th>\n",
       "      <td>27.960530</td>\n",
       "    </tr>\n",
       "    <tr>\n",
       "      <th>2020</th>\n",
       "      <td>27.416372</td>\n",
       "    </tr>\n",
       "    <tr>\n",
       "      <th>2021</th>\n",
       "      <td>24.935673</td>\n",
       "    </tr>\n",
       "  </tbody>\n",
       "</table>\n",
       "<p>237 rows × 1 columns</p>\n",
       "</div>"
      ],
      "text/plain": [
       "          value\n",
       "year           \n",
       "1781  24.558904\n",
       "1782  13.712329\n",
       "1783  17.832877\n",
       "1784  16.576503\n",
       "1785  16.169863\n",
       "...         ...\n",
       "2017  28.086188\n",
       "2018  28.818076\n",
       "2019  27.960530\n",
       "2020  27.416372\n",
       "2021  24.935673\n",
       "\n",
       "[237 rows x 1 columns]"
      ]
     },
     "execution_count": 9,
     "metadata": {},
     "output_type": "execute_result"
    }
   ],
   "source": [
    "mean_prcp"
   ]
  },
  {
   "cell_type": "code",
   "execution_count": 10,
   "id": "advance-appliance",
   "metadata": {},
   "outputs": [],
   "source": [
    "#save to csv file\n",
    "mean_prcp.to_csv(\"prcp-all.csv\")"
   ]
  },
  {
   "cell_type": "markdown",
   "id": "brutal-bearing",
   "metadata": {},
   "source": [
    "## Question 2-4: tmax-all"
   ]
  },
  {
   "cell_type": "code",
   "execution_count": 11,
   "id": "qualified-tractor",
   "metadata": {},
   "outputs": [],
   "source": [
    "dk_temp = b.filter(lambda x: x['element'] == 'TMAX' and x['quality'] == ' ' and x['value'] != -9999).to_dataframe()"
   ]
  },
  {
   "cell_type": "code",
   "execution_count": 12,
   "id": "royal-champagne",
   "metadata": {},
   "outputs": [],
   "source": [
    "max_temp = dk_temp.groupby(by=[\"year\"]).agg({\"value\":\"max\"}).compute().sort_values(\"year\") "
   ]
  },
  {
   "cell_type": "code",
   "execution_count": 13,
   "id": "young-terminal",
   "metadata": {},
   "outputs": [
    {
     "data": {
      "text/html": [
       "<div>\n",
       "<style scoped>\n",
       "    .dataframe tbody tr th:only-of-type {\n",
       "        vertical-align: middle;\n",
       "    }\n",
       "\n",
       "    .dataframe tbody tr th {\n",
       "        vertical-align: top;\n",
       "    }\n",
       "\n",
       "    .dataframe thead th {\n",
       "        text-align: right;\n",
       "    }\n",
       "</style>\n",
       "<table border=\"1\" class=\"dataframe\">\n",
       "  <thead>\n",
       "    <tr style=\"text-align: right;\">\n",
       "      <th></th>\n",
       "      <th>value</th>\n",
       "    </tr>\n",
       "    <tr>\n",
       "      <th>year</th>\n",
       "      <th></th>\n",
       "    </tr>\n",
       "  </thead>\n",
       "  <tbody>\n",
       "    <tr>\n",
       "      <th>1763</th>\n",
       "      <td>309</td>\n",
       "    </tr>\n",
       "    <tr>\n",
       "      <th>1764</th>\n",
       "      <td>301</td>\n",
       "    </tr>\n",
       "    <tr>\n",
       "      <th>1765</th>\n",
       "      <td>292</td>\n",
       "    </tr>\n",
       "    <tr>\n",
       "      <th>1766</th>\n",
       "      <td>301</td>\n",
       "    </tr>\n",
       "    <tr>\n",
       "      <th>1767</th>\n",
       "      <td>301</td>\n",
       "    </tr>\n",
       "    <tr>\n",
       "      <th>...</th>\n",
       "      <td>...</td>\n",
       "    </tr>\n",
       "    <tr>\n",
       "      <th>2017</th>\n",
       "      <td>529</td>\n",
       "    </tr>\n",
       "    <tr>\n",
       "      <th>2018</th>\n",
       "      <td>528</td>\n",
       "    </tr>\n",
       "    <tr>\n",
       "      <th>2019</th>\n",
       "      <td>532</td>\n",
       "    </tr>\n",
       "    <tr>\n",
       "      <th>2020</th>\n",
       "      <td>544</td>\n",
       "    </tr>\n",
       "    <tr>\n",
       "      <th>2021</th>\n",
       "      <td>471</td>\n",
       "    </tr>\n",
       "  </tbody>\n",
       "</table>\n",
       "<p>259 rows × 1 columns</p>\n",
       "</div>"
      ],
      "text/plain": [
       "      value\n",
       "year       \n",
       "1763    309\n",
       "1764    301\n",
       "1765    292\n",
       "1766    301\n",
       "1767    301\n",
       "...     ...\n",
       "2017    529\n",
       "2018    528\n",
       "2019    532\n",
       "2020    544\n",
       "2021    471\n",
       "\n",
       "[259 rows x 1 columns]"
      ]
     },
     "execution_count": 13,
     "metadata": {},
     "output_type": "execute_result"
    }
   ],
   "source": [
    "max_temp"
   ]
  },
  {
   "cell_type": "code",
   "execution_count": 14,
   "id": "refined-boring",
   "metadata": {},
   "outputs": [],
   "source": [
    "#save to csv file\n",
    "max_temp.to_csv(\"tmax-all.csv\")"
   ]
  }
 ],
 "metadata": {
  "kernelspec": {
   "display_name": "Python 3",
   "language": "python",
   "name": "python3"
  },
  "language_info": {
   "codemirror_mode": {
    "name": "ipython",
    "version": 3
   },
   "file_extension": ".py",
   "mimetype": "text/x-python",
   "name": "python",
   "nbconvert_exporter": "python",
   "pygments_lexer": "ipython3",
   "version": "3.8.5"
  }
 },
 "nbformat": 4,
 "nbformat_minor": 5
}
